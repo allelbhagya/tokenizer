{
 "cells": [
  {
   "cell_type": "code",
   "execution_count": 198,
   "id": "ed4f4e26",
   "metadata": {},
   "outputs": [],
   "source": [
    "def clean(text):\n",
    "    punctuation = \".,!?\"\n",
    "    text = text.lower()\n",
    "    words = text.split()\n",
    "    clean_text = []\n",
    "    for i in range(len(words)):\n",
    "        word = words[i]\n",
    "        if word[-1] in punctuation:\n",
    "            clean_text.append(word[:-1])\n",
    "            clean_text.append(word[-1])\n",
    "        else:\n",
    "            clean_text.append(word)\n",
    "    return clean_text"
   ]
  },
  {
   "cell_type": "code",
   "execution_count": 199,
   "id": "1c001490",
   "metadata": {},
   "outputs": [],
   "source": [
    "def mask(word):\n",
    "    val = len(word)//2\n",
    "    rem = (len(word) - val)*'#'\n",
    "    return [word[:val]+rem, word[val:]]"
   ]
  },
  {
   "cell_type": "code",
   "execution_count": 200,
   "id": "702c3484",
   "metadata": {},
   "outputs": [],
   "source": [
    "def masking(text, known):\n",
    "    masked = []\n",
    "    for i in text:\n",
    "        if i not in known:\n",
    "            masked.extend(mask(i))\n",
    "        else:\n",
    "            masked.append(i)\n",
    "    return masked"
   ]
  },
  {
   "cell_type": "code",
   "execution_count": null,
   "id": "2100b4bf",
   "metadata": {},
   "outputs": [
    {
     "data": {
      "text/plain": [
       "['i', 'have', 'a', 'new', 'g##', 'pu', '!']"
      ]
     },
     "execution_count": 201,
     "metadata": {},
     "output_type": "execute_result"
    }
   ],
   "source": [
    "def bert_tokenizer(text, known):\n",
    "    clean_text = clean(text)\n",
    "    text = masking(clean_text, known)\n",
    "    return text\n",
    "text = \"I have a new GPU!\"\n",
    "known = ['i', 'have', 'a', 'new', '!']\n",
    "bert_tokenizer(text, known)"
   ]
  }
 ],
 "metadata": {
  "kernelspec": {
   "display_name": ".venv",
   "language": "python",
   "name": "python3"
  },
  "language_info": {
   "codemirror_mode": {
    "name": "ipython",
    "version": 3
   },
   "file_extension": ".py",
   "mimetype": "text/x-python",
   "name": "python",
   "nbconvert_exporter": "python",
   "pygments_lexer": "ipython3",
   "version": "3.10.18"
  }
 },
 "nbformat": 4,
 "nbformat_minor": 5
}
